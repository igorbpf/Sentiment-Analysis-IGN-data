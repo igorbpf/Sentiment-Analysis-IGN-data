{
 "cells": [
  {
   "cell_type": "markdown",
   "metadata": {},
   "source": [
    "# Data Cleaning"
   ]
  },
  {
   "cell_type": "code",
   "execution_count": 1,
   "metadata": {
    "collapsed": true
   },
   "outputs": [],
   "source": [
    "# Dependencies\n",
    "import seaborn as sns\n",
    "import numpy as np\n",
    "import matplotlib.pyplot as plt\n",
    "import pandas as pd\n",
    "import re\n",
    "from sklearn.feature_extraction.text import CountVectorizer\n",
    "from sklearn.model_selection import train_test_split\n",
    "\n",
    "%matplotlib inline"
   ]
  },
  {
   "cell_type": "code",
   "execution_count": 2,
   "metadata": {
    "collapsed": true
   },
   "outputs": [],
   "source": [
    "# Read the data from the data folder\n",
    "df = pd.read_csv('data/ign.csv')\n",
    "\n",
    "# Selecting what matters\n",
    "df = df[['score_phrase', 'title']]"
   ]
  },
  {
   "cell_type": "code",
   "execution_count": 3,
   "metadata": {
    "collapsed": false
   },
   "outputs": [
    {
     "data": {
      "text/plain": [
       "<matplotlib.axes._subplots.AxesSubplot at 0x7f16cbb4e690>"
      ]
     },
     "execution_count": 3,
     "metadata": {},
     "output_type": "execute_result"
    },
    {
     "data": {
      "image/png": "[encoded data removed]",
      "text/plain": [
       "<matplotlib.figure.Figure at 0x7f16cbb4e110>"
      ]
     },
     "metadata": {},
     "output_type": "display_data"
    }
   ],
   "source": [
    "# Plot the distribuiton of categories\n",
    "\n",
    "# Adjusting size\n",
    "dims = (9, 4)\n",
    "fig, ax = plt.subplots(figsize=dims)\n",
    "\n",
    "# Plotting\n",
    "sns.countplot(x='score_phrase', data=df)"
   ]
  },
  {
   "cell_type": "code",
   "execution_count": 4,
   "metadata": {
    "collapsed": false
   },
   "outputs": [
    {
     "data": {
      "text/html": [
       "<div>\n",
       "<table border=\"1\" class=\"dataframe\">\n",
       "  <thead>\n",
       "    <tr style=\"text-align: right;\">\n",
       "      <th></th>\n",
       "      <th>score_phrase</th>\n",
       "      <th>title</th>\n",
       "    </tr>\n",
       "  </thead>\n",
       "  <tbody>\n",
       "    <tr>\n",
       "      <th>count</th>\n",
       "      <td>18625</td>\n",
       "      <td>18625</td>\n",
       "    </tr>\n",
       "    <tr>\n",
       "      <th>unique</th>\n",
       "      <td>11</td>\n",
       "      <td>12589</td>\n",
       "    </tr>\n",
       "    <tr>\n",
       "      <th>top</th>\n",
       "      <td>Great</td>\n",
       "      <td>Open Season</td>\n",
       "    </tr>\n",
       "    <tr>\n",
       "      <th>freq</th>\n",
       "      <td>4773</td>\n",
       "      <td>10</td>\n",
       "    </tr>\n",
       "  </tbody>\n",
       "</table>\n",
       "</div>"
      ],
      "text/plain": [
       "       score_phrase        title\n",
       "count         18625        18625\n",
       "unique           11        12589\n",
       "top           Great  Open Season\n",
       "freq           4773           10"
      ]
     },
     "execution_count": 4,
     "metadata": {},
     "output_type": "execute_result"
    }
   ],
   "source": [
    "# Statistics\n",
    "df.describe(include=['object', 'category'])"
   ]
  },
  {
   "cell_type": "code",
   "execution_count": 5,
   "metadata": {
    "collapsed": false
   },
   "outputs": [
    {
     "name": "stdout",
     "output_type": "stream",
     "text": [
      "Vocabulary is {u'Unbearable': 10, u'Great': 5, u'Good': 4, u'Okay': 8, u'Disaster': 3, u'Amazing': 0, u'Bad': 2, u'Masterpiece': 6, u'Awful': 1, u'Mediocre': 7, u'Painful': 9}\n"
     ]
    }
   ],
   "source": [
    "# This function clusterizes different categories into 2 classes: 0 - negative, 1 - positive\n",
    "def binarization(category):\n",
    "    positive = ['Amazing', 'Great', 'Good', 'Okay', 'Masterpiece']\n",
    "    negative = ['Awful', 'Mediocre', 'Bad', 'Painful', 'Unbearable', 'Disaster']\n",
    "    \n",
    "    if category in positive:\n",
    "        category = 1\n",
    "    \n",
    "    if category in negative:\n",
    "        category = 0\n",
    "    \n",
    "    return category\n",
    "\n",
    "positive = ['Amazing', 'Great', 'Good', 'Okay', 'Masterpiece']\n",
    "negative = ['Awful', 'Mediocre', 'Bad', 'Painful', 'Unbearable', 'Disaster']\n",
    "categories = positive + negative\n",
    "categories_dict = CountVectorizer(stop_words=None, lowercase=False).fit(categories).vocabulary_\n",
    "print \"Vocabulary is\", categories_dict\n",
    "\n",
    "# Classes to numbers\n",
    "def category_to_number(category):\n",
    "    return categories_dict[category]\n",
    "    \n",
    "    "
   ]
  },
  {
   "cell_type": "code",
   "execution_count": 6,
   "metadata": {
    "collapsed": false
   },
   "outputs": [],
   "source": [
    "# Create a new column with the binarized categories\n",
    "df['binarized'] = df['score_phrase'].apply(binarization)\n",
    "\n",
    "# Create a new column with numbers representing categories\n",
    "df['numbers'] = df['score_phrase'].apply(category_to_number)\n"
   ]
  },
  {
   "cell_type": "code",
   "execution_count": 7,
   "metadata": {
    "collapsed": false
   },
   "outputs": [
    {
     "data": {
      "text/html": [
       "<div>\n",
       "<table border=\"1\" class=\"dataframe\">\n",
       "  <thead>\n",
       "    <tr style=\"text-align: right;\">\n",
       "      <th></th>\n",
       "      <th>score_phrase</th>\n",
       "      <th>title</th>\n",
       "      <th>binarized</th>\n",
       "      <th>numbers</th>\n",
       "    </tr>\n",
       "  </thead>\n",
       "  <tbody>\n",
       "    <tr>\n",
       "      <th>0</th>\n",
       "      <td>Amazing</td>\n",
       "      <td>LittleBigPlanet PS Vita</td>\n",
       "      <td>1</td>\n",
       "      <td>0</td>\n",
       "    </tr>\n",
       "    <tr>\n",
       "      <th>1</th>\n",
       "      <td>Amazing</td>\n",
       "      <td>LittleBigPlanet PS Vita -- Marvel Super Hero E...</td>\n",
       "      <td>1</td>\n",
       "      <td>0</td>\n",
       "    </tr>\n",
       "    <tr>\n",
       "      <th>2</th>\n",
       "      <td>Great</td>\n",
       "      <td>Splice: Tree of Life</td>\n",
       "      <td>1</td>\n",
       "      <td>5</td>\n",
       "    </tr>\n",
       "    <tr>\n",
       "      <th>3</th>\n",
       "      <td>Great</td>\n",
       "      <td>NHL 13</td>\n",
       "      <td>1</td>\n",
       "      <td>5</td>\n",
       "    </tr>\n",
       "    <tr>\n",
       "      <th>4</th>\n",
       "      <td>Great</td>\n",
       "      <td>NHL 13</td>\n",
       "      <td>1</td>\n",
       "      <td>5</td>\n",
       "    </tr>\n",
       "  </tbody>\n",
       "</table>\n",
       "</div>"
      ],
      "text/plain": [
       "  score_phrase                                              title  binarized  \\\n",
       "0      Amazing                            LittleBigPlanet PS Vita          1   \n",
       "1      Amazing  LittleBigPlanet PS Vita -- Marvel Super Hero E...          1   \n",
       "2        Great                               Splice: Tree of Life          1   \n",
       "3        Great                                             NHL 13          1   \n",
       "4        Great                                             NHL 13          1   \n",
       "\n",
       "   numbers  \n",
       "0        0  \n",
       "1        0  \n",
       "2        5  \n",
       "3        5  \n",
       "4        5  "
      ]
     },
     "execution_count": 7,
     "metadata": {},
     "output_type": "execute_result"
    }
   ],
   "source": [
    "# Check out data\n",
    "df.head()"
   ]
  },
  {
   "cell_type": "code",
   "execution_count": 8,
   "metadata": {
    "collapsed": false
   },
   "outputs": [
    {
     "data": {
      "text/plain": [
       "<matplotlib.axes._subplots.AxesSubplot at 0x7f16cc00d190>"
      ]
     },
     "execution_count": 8,
     "metadata": {},
     "output_type": "execute_result"
    },
    {
     "data": {
      "image/png": "[encoded data removed]",
      "text/plain": [
       "<matplotlib.figure.Figure at 0x7f170c792110>"
      ]
     },
     "metadata": {},
     "output_type": "display_data"
    }
   ],
   "source": [
    "# Check the binarized distribution. Classes are unbalanced!\n",
    "sns.countplot(x='binarized', data=df)"
   ]
  },
  {
   "cell_type": "code",
   "execution_count": 9,
   "metadata": {
    "collapsed": false
   },
   "outputs": [],
   "source": [
    "# This function cleans the data and replace numbers by a common token: NUM. This function is inspired in kim's work\n",
    "# at https://github.com/yoonkim/CNN_sentence/blob/master/process_data.py\n",
    "\n",
    "def clean_str(string):\n",
    "    \"\"\"\n",
    "    Tokenization/string cleaning.\n",
    "    \"\"\"\n",
    "    string = re.sub(r\"[^A-Za-z0-9(),:!?\\'\\`]\", \" \", string)     \n",
    "    string = re.sub(r\"\\'s\", \" \\'s\", string) \n",
    "    string = re.sub(r\"\\'ve\", \" \\'ve\", string) \n",
    "    string = re.sub(r\"n\\'t\", \" n\\'t\", string) \n",
    "    string = re.sub(r\"\\'re\", \" \\'re\", string) \n",
    "    string = re.sub(r\"\\'d\", \" \\'d\", string) \n",
    "    string = re.sub(r\"\\'ll\", \" \\'ll\", string) \n",
    "    string = re.sub(r\",\", \" , \", string) \n",
    "    string = re.sub(r\"!\", \" ! \", string) \n",
    "    string = re.sub(r\"\\(\", \" \\( \", string) \n",
    "    string = re.sub(r\"\\)\", \" \\) \", string) \n",
    "    string = re.sub(r\":\", \" : \", string)\n",
    "    string = re.sub(r\"\\?\", \" \\? \", string) \n",
    "    string = re.sub(r\"\\s{2,}\", \" \", string)\n",
    "    string = string.strip().lower()\n",
    "    string = re.sub(r\"[0-9]{2,}\", \"NUM\", string)\n",
    "    return string\n"
   ]
  },
  {
   "cell_type": "code",
   "execution_count": 10,
   "metadata": {
    "collapsed": false
   },
   "outputs": [],
   "source": [
    "# Apply the function to the title column\n",
    "\n",
    "df['cleaned'] = df['title'].apply(clean_str)"
   ]
  },
  {
   "cell_type": "code",
   "execution_count": 11,
   "metadata": {
    "collapsed": false
   },
   "outputs": [
    {
     "data": {
      "text/html": [
       "<div>\n",
       "<table border=\"1\" class=\"dataframe\">\n",
       "  <thead>\n",
       "    <tr style=\"text-align: right;\">\n",
       "      <th></th>\n",
       "      <th>score_phrase</th>\n",
       "      <th>title</th>\n",
       "      <th>binarized</th>\n",
       "      <th>numbers</th>\n",
       "      <th>cleaned</th>\n",
       "    </tr>\n",
       "  </thead>\n",
       "  <tbody>\n",
       "    <tr>\n",
       "      <th>0</th>\n",
       "      <td>Amazing</td>\n",
       "      <td>LittleBigPlanet PS Vita</td>\n",
       "      <td>1</td>\n",
       "      <td>0</td>\n",
       "      <td>littlebigplanet ps vita</td>\n",
       "    </tr>\n",
       "    <tr>\n",
       "      <th>1</th>\n",
       "      <td>Amazing</td>\n",
       "      <td>LittleBigPlanet PS Vita -- Marvel Super Hero E...</td>\n",
       "      <td>1</td>\n",
       "      <td>0</td>\n",
       "      <td>littlebigplanet ps vita marvel super hero edition</td>\n",
       "    </tr>\n",
       "    <tr>\n",
       "      <th>2</th>\n",
       "      <td>Great</td>\n",
       "      <td>Splice: Tree of Life</td>\n",
       "      <td>1</td>\n",
       "      <td>5</td>\n",
       "      <td>splice : tree of life</td>\n",
       "    </tr>\n",
       "    <tr>\n",
       "      <th>3</th>\n",
       "      <td>Great</td>\n",
       "      <td>NHL 13</td>\n",
       "      <td>1</td>\n",
       "      <td>5</td>\n",
       "      <td>nhl NUM</td>\n",
       "    </tr>\n",
       "    <tr>\n",
       "      <th>4</th>\n",
       "      <td>Great</td>\n",
       "      <td>NHL 13</td>\n",
       "      <td>1</td>\n",
       "      <td>5</td>\n",
       "      <td>nhl NUM</td>\n",
       "    </tr>\n",
       "  </tbody>\n",
       "</table>\n",
       "</div>"
      ],
      "text/plain": [
       "  score_phrase                                              title  binarized  \\\n",
       "0      Amazing                            LittleBigPlanet PS Vita          1   \n",
       "1      Amazing  LittleBigPlanet PS Vita -- Marvel Super Hero E...          1   \n",
       "2        Great                               Splice: Tree of Life          1   \n",
       "3        Great                                             NHL 13          1   \n",
       "4        Great                                             NHL 13          1   \n",
       "\n",
       "   numbers                                            cleaned  \n",
       "0        0                            littlebigplanet ps vita  \n",
       "1        0  littlebigplanet ps vita marvel super hero edition  \n",
       "2        5                              splice : tree of life  \n",
       "3        5                                            nhl NUM  \n",
       "4        5                                            nhl NUM  "
      ]
     },
     "execution_count": 11,
     "metadata": {},
     "output_type": "execute_result"
    }
   ],
   "source": [
    "# Take a look at the last 5\n",
    "df.head()"
   ]
  },
  {
   "cell_type": "code",
   "execution_count": 12,
   "metadata": {
    "collapsed": false
   },
   "outputs": [
    {
     "name": "stdout",
     "output_type": "stream",
     "text": [
      "The vocabulary has 7572 words\n",
      "The largest sentence has 14 tokens\n"
     ]
    }
   ],
   "source": [
    "# Instantiate an CountVectorizer object removing english stop words. Set lowercase false cause I've have done this\n",
    "# and I wanna keep NUM token in uppercase.\n",
    "vectorizer = CountVectorizer(stop_words='english', lowercase=False)\n",
    "\n",
    "# Fit the data \n",
    "titles_vectorized = vectorizer.fit(df['cleaned'])\n",
    "\n",
    "# Get the vocabulary\n",
    "vocabulary = titles_vectorized.vocabulary_\n",
    "\n",
    "words = set(vocabulary.keys())\n",
    "\n",
    "# Size of vocabulary\n",
    "size_vocab = len(vocabulary)\n",
    "print \"The vocabulary has {} words\".format(size_vocab)\n",
    "\n",
    "# Get the data cleaned and transform words in numerical tokens.\n",
    "text = df['cleaned'].tolist()\n",
    "text = [string.split() for string in text]\n",
    "# tokens is a list of lists. Each list inside tokens represents a sentence\n",
    "tokens = []\n",
    "for sentence in text:\n",
    "    dummy = []\n",
    "    for word in sentence:\n",
    "        if word in words:\n",
    "            dummy.append(vocabulary[word] + 1) # Sum 1 cause I want to leave the token 0 for padding in LSTM.\n",
    "    tokens.append(dummy)\n",
    "    \n",
    "# Maximum length of a sentence in the data\n",
    "max_len = max([len(sentence) for sentence in tokens])\n",
    "print \"The largest sentence has {} tokens\".format(max_len)"
   ]
  },
  {
   "cell_type": "code",
   "execution_count": 13,
   "metadata": {
    "collapsed": false
   },
   "outputs": [
    {
     "data": {
      "text/plain": [
       "14"
      ]
     },
     "execution_count": 13,
     "metadata": {},
     "output_type": "execute_result"
    }
   ],
   "source": [
    "# Gather info\n",
    "\n",
    "# Sentences\n",
    "X = tokens\n",
    "\n",
    "# binary labels\n",
    "y_2 = df['binarized']\n",
    "\n",
    "# All 11 classes\n",
    "y_11 = df['numbers']\n",
    "\n",
    "# Vocabulary size\n",
    "size_vocab\n",
    "\n",
    "# Maximum length\n",
    "max_len"
   ]
  },
  {
   "cell_type": "code",
   "execution_count": 14,
   "metadata": {
    "collapsed": false
   },
   "outputs": [],
   "source": [
    "# Let's split the data in training, validation and test\n",
    "# First split data into train and dummy\n",
    "X_train, X_dummy, y_2_train, y_2_dummy = train_test_split(X, y_2, train_size=0.6, random_state=7)\n",
    "\n",
    "# Now split dummy into validation and test\n",
    "X_validation, X_test, y_2_validation, y_2_test = train_test_split(X_dummy, y_2_dummy, test_size=0.5,\\\n",
    "                                                                  random_state=7)\n",
    "\n",
    "# Same procedure using all 11 labels\n",
    "X_train, X_dummy, y_11_train, y_11_dummy = train_test_split(X, y_11, train_size=0.6, random_state=7)\n",
    "\n",
    "# Now split dummy into validation and test\n",
    "X_validation, X_test, y_11_validation, y_11_test = train_test_split(X_dummy, y_11_dummy, test_size=0.5,\\\n",
    "                                                                  random_state=7)\n",
    "\n",
    "\n"
   ]
  },
  {
   "cell_type": "markdown",
   "metadata": {
    "collapsed": false
   },
   "source": [
    "# Deep Learning Time\n",
    "\n",
    "# First using LSTM and 2 labels"
   ]
  },
  {
   "cell_type": "code",
   "execution_count": 15,
   "metadata": {
    "collapsed": false
   },
   "outputs": [],
   "source": [
    "# Dependencies\n",
    "import tflearn\n",
    "from tflearn.data_utils import to_categorical, pad_sequences"
   ]
  },
  {
   "cell_type": "code",
   "execution_count": 16,
   "metadata": {
    "collapsed": false
   },
   "outputs": [],
   "source": [
    "# Sequence padding\n",
    "trainX = pad_sequences(X_train, maxlen=max_len, value=0.) # max_len was found some cells above\n",
    "validationX = pad_sequences(X_validation, maxlen=max_len, value=0.)\n",
    "testX = pad_sequences(X_test, maxlen=max_len, value=0.)\n",
    "\n",
    "# Converting labels to binary vectors\n",
    "trainY_2 = to_categorical(y_2_train, nb_classes=2)\n",
    "validationY_2 = to_categorical(y_2_validation, nb_classes=2)\n",
    "testY_2 = to_categorical(y_2_test, nb_classes=2)\n"
   ]
  },
  {
   "cell_type": "code",
   "execution_count": 17,
   "metadata": {
    "collapsed": false
   },
   "outputs": [],
   "source": [
    "# Network building\n",
    "net = tflearn.input_data([None, max_len])\n",
    "net = tflearn.embedding(net, input_dim=size_vocab + 1, output_dim=128) # input_dim is size_vocab + 1 cause now we\n",
    "                                                                        # have a 0 token. \n",
    "net = tflearn.lstm(net, 128, dropout=0.8)\n",
    "net = tflearn.fully_connected(net, 2, activation='softmax')\n",
    "net = tflearn.regression(net, optimizer='adam', learning_rate=0.0001,\n",
    "                         loss='categorical_crossentropy')\n"
   ]
  },
  {
   "cell_type": "code",
   "execution_count": 18,
   "metadata": {
    "collapsed": false
   },
   "outputs": [
    {
     "name": "stdout",
     "output_type": "stream",
     "text": [
      "Training Step: 3500  | total loss: \u001b[1m\u001b[32m0.21728\u001b[0m\u001b[0m\n",
      "| Adam | epoch: 010 | loss: 0.21728 - acc: 0.9151 | val_loss: 0.57073 - val_acc: 0.7793 -- iter: 11175/11175\n",
      "Training Step: 3500  | total loss: \u001b[1m\u001b[32m0.21728\u001b[0m\u001b[0m\n",
      "| Adam | epoch: 010 | loss: 0.21728 - acc: 0.9151 | val_loss: 0.57073 - val_acc: 0.7793 -- iter: 11175/11175\n",
      "--\n"
     ]
    }
   ],
   "source": [
    "# Training\n",
    "model = tflearn.DNN(net, tensorboard_verbose=0)\n",
    "model.fit(trainX, trainY_2, validation_set=(validationX, validationY_2), show_metric=True,\n",
    "          batch_size=32, n_epoch = 10)\n"
   ]
  },
  {
   "cell_type": "code",
   "execution_count": 30,
   "metadata": {
    "collapsed": false
   },
   "outputs": [
    {
     "name": "stdout",
     "output_type": "stream",
     "text": [
      "[1, 0, 1, 1, 1, 1, 1, 1, 1, 1]\n"
     ]
    }
   ],
   "source": [
    "# Get the predictions -- List of list of probabilities\n",
    "y_pred_2 = model.predict(testX)\n",
    "\n",
    "# Get the list of classes\n",
    "y_pred_2 = np.array(y_pred_2)\n",
    "y_pred_2 = np.argmax(y_pred_2, axis=1).tolist()\n",
    "\n",
    "print y_pred_2[:10]"
   ]
  },
  {
   "cell_type": "code",
   "execution_count": 17,
   "metadata": {
    "collapsed": false
   },
   "outputs": [],
   "source": [
    "# The classes are unbalanced. So accuracy is not a good metric for the problem. Let's use the confusion matrix and \n",
    "# and a classification report\n",
    "from sklearn.metrics import confusion_matrix, classification_report"
   ]
  },
  {
   "cell_type": "code",
   "execution_count": 38,
   "metadata": {
    "collapsed": false
   },
   "outputs": [
    {
     "name": "stdout",
     "output_type": "stream",
     "text": [
      "             precision    recall  f1-score   support\n",
      "\n",
      "          0       0.51      0.41      0.46       852\n",
      "          1       0.83      0.88      0.86      2873\n",
      "\n",
      "avg / total       0.76      0.77      0.77      3725\n",
      "\n"
     ]
    }
   ],
   "source": [
    "# Classfication report\n",
    "print classification_report(y_2_test, y_pred_2)"
   ]
  },
  {
   "cell_type": "code",
   "execution_count": 35,
   "metadata": {
    "collapsed": false
   },
   "outputs": [
    {
     "name": "stdout",
     "output_type": "stream",
     "text": [
      "[[2535  338]\n",
      " [ 501  351]]\n"
     ]
    }
   ],
   "source": [
    "# Confusion matrix\n",
    "cm = confusion_matrix(y_2_test, y_pred_2, labels=[1,0])\n",
    "\n",
    "print cm"
   ]
  },
  {
   "cell_type": "code",
   "execution_count": 25,
   "metadata": {
    "collapsed": true
   },
   "outputs": [],
   "source": [
    "# This function helps us to plot a fancy confusion matrix. It takes the confusion matrix as inpunt!\n",
    "\n",
    "def plot_confusion_matrix(cm, classes,title='Confusion matrix', cmap=plt.cm.Blues, rotation=False):\n",
    "    plt.imshow(cm, interpolation='nearest', cmap=cmap)\n",
    "    plt.title(title)\n",
    "    plt.colorbar()\n",
    "    bal = classes\n",
    "    tick_marks = np.arange(len(bal))\n",
    "    if rotation:\n",
    "        plt.xticks(tick_marks, bal, rotation=60)\n",
    "    else:\n",
    "        plt.xticks(tick_marks, bal)\n",
    "    plt.yticks(tick_marks, bal)\n",
    "    plt.tight_layout()\n",
    "    plt.ylabel('True label')\n",
    "    plt.xlabel('Predicted label')\n",
    "    plt.show()\n"
   ]
  },
  {
   "cell_type": "code",
   "execution_count": 34,
   "metadata": {
    "collapsed": false
   },
   "outputs": [
    {
     "data": {
      "image/png": "[encoded data removed]",
      "text/plain": [
       "<matplotlib.figure.Figure at 0x7f222858bf50>"
      ]
     },
     "metadata": {},
     "output_type": "display_data"
    }
   ],
   "source": [
    "plot_confusion_matrix(cm, ['positive', 'negative'])"
   ]
  },
  {
   "cell_type": "markdown",
   "metadata": {},
   "source": [
    "# Let's use CNN and 2 classes"
   ]
  },
  {
   "cell_type": "code",
   "execution_count": 19,
   "metadata": {
    "collapsed": true
   },
   "outputs": [],
   "source": [
    "# Dependencies\n",
    "from tflearn.layers.conv import conv_1d, global_max_pool\n",
    "from tflearn.layers.merge_ops import merge\n",
    "from tflearn.layers.core import input_data, dropout, fully_connected\n",
    "from tflearn.layers.estimator import regression\n",
    "import tensorflow as tf"
   ]
  },
  {
   "cell_type": "code",
   "execution_count": 20,
   "metadata": {
    "collapsed": false
   },
   "outputs": [
    {
     "name": "stdout",
     "output_type": "stream",
     "text": [
      "Training Step: 3500  | total loss: \u001b[1m\u001b[32m0.19644\u001b[0m\u001b[0m\n",
      "| Adam | epoch: 010 | loss: 0.19644 - acc: 0.9250 | val_loss: 0.70534 - val_acc: 0.7729 -- iter: 11175/11175\n",
      "Training Step: 3500  | total loss: \u001b[1m\u001b[32m0.19644\u001b[0m\u001b[0m\n",
      "| Adam | epoch: 010 | loss: 0.19644 - acc: 0.9250 | val_loss: 0.70534 - val_acc: 0.7729 -- iter: 11175/11175\n",
      "--\n",
      "[1, 1, 1, 1, 1, 1, 1, 1, 1, 1]\n",
      "             precision    recall  f1-score   support\n",
      "\n",
      "          0       0.48      0.42      0.45       852\n",
      "          1       0.83      0.86      0.85      2873\n",
      "\n",
      "avg / total       0.75      0.76      0.76      3725\n",
      "\n",
      "[[2484  389]\n",
      " [ 495  357]]\n"
     ]
    },
    {
     "name": "stderr",
     "output_type": "stream",
     "text": [
      "/usr/lib/python2.7/dist-packages/matplotlib/collections.py:571: FutureWarning: elementwise comparison failed; returning scalar instead, but in the future will perform elementwise comparison\n",
      "  if self._edgecolors == str('face'):\n"
     ]
    },
    {
     "data": {
      "image/png": "[encoded data removed]",
      "text/plain": [
       "<matplotlib.figure.Figure at 0x7fdda7f6ac90>"
      ]
     },
     "metadata": {},
     "output_type": "display_data"
    }
   ],
   "source": [
    "# Network building\n",
    "network = tflearn.input_data([None, max_len])\n",
    "network = tflearn.embedding(network, input_dim=size_vocab + 1, output_dim=128) # input_dim is size_vocab + 1 cause now we\n",
    "                                                                        # have a 0 token. \n",
    "branch1 = conv_1d(network, 128, 3, padding='valid', activation='relu', regularizer=\"L2\")\n",
    "branch2 = conv_1d(network, 128, 4, padding='valid', activation='relu', regularizer=\"L2\")\n",
    "branch3 = conv_1d(network, 128, 5, padding='valid', activation='relu', regularizer=\"L2\")\n",
    "network = merge([branch1, branch2, branch3], mode='concat', axis=1)\n",
    "network = tf.expand_dims(network, 2)\n",
    "network = global_max_pool(network)\n",
    "network = dropout(network, 0.5)\n",
    "network = fully_connected(network, 2, activation='softmax')\n",
    "network = regression(network, optimizer='adam', learning_rate=0.001,\n",
    "                     loss='categorical_crossentropy', name='target')\n",
    "\n",
    "# Training\n",
    "model = tflearn.DNN(network, tensorboard_verbose=0)\n",
    "model.fit(trainX, trainY_2, validation_set=(validationX, validationY_2), show_metric=True,\n",
    "          batch_size=32, n_epoch = 10)\n",
    "\n",
    "\n",
    "# Get the predictions -- List of list of probabilities\n",
    "y_pred_2cnn = model.predict(testX)\n",
    "\n",
    "# Get the list of classes\n",
    "y_pred_2cnn = np.array(y_pred_2cnn)\n",
    "y_pred_2cnn = np.argmax(y_pred_2cnn, axis=1).tolist()\n",
    "\n",
    "print y_pred_2cnn[:10]\n",
    "\n",
    "# Classfication report\n",
    "print classification_report(y_2_test, y_pred_2cnn)\n",
    "\n",
    "# Confusion matrix\n",
    "cm = confusion_matrix(y_2_test, y_pred_2cnn, labels=[1,0])\n",
    "\n",
    "print cm\n",
    "\n",
    "plot_confusion_matrix(cm, ['positive', 'negative'])\n"
   ]
  },
  {
   "cell_type": "markdown",
   "metadata": {
    "collapsed": true
   },
   "source": [
    "# LSTM and 11 classes"
   ]
  },
  {
   "cell_type": "code",
   "execution_count": 20,
   "metadata": {
    "collapsed": false
   },
   "outputs": [
    {
     "name": "stdout",
     "output_type": "stream",
     "text": [
      "Training Step: 3500  | total loss: \u001b[1m\u001b[32m1.50534\u001b[0m\u001b[0m\n",
      "| Adam | epoch: 010 | loss: 1.50534 - acc: 0.3933 | val_loss: 1.90316 - val_acc: 0.2617 -- iter: 11175/11175\n",
      "Training Step: 3500  | total loss: \u001b[1m\u001b[32m1.50534\u001b[0m\u001b[0m\n",
      "| Adam | epoch: 010 | loss: 1.50534 - acc: 0.3933 | val_loss: 1.90316 - val_acc: 0.2617 -- iter: 11175/11175\n",
      "--\n"
     ]
    }
   ],
   "source": [
    "# Converting labels to binary vectors\n",
    "trainY_11 = to_categorical(y_11_train, nb_classes=11)\n",
    "validationY_11 = to_categorical(y_11_validation, nb_classes=11)\n",
    "testY_11 = to_categorical(y_11_test, nb_classes=11)\n",
    "\n",
    "# Network building\n",
    "net = tflearn.input_data([None, max_len])\n",
    "net = tflearn.embedding(net, input_dim=size_vocab + 1, output_dim=128) # input_dim is size_vocab + 1 cause now we\n",
    "                                                                        # have a 0 token. \n",
    "net = tflearn.lstm(net, 128, dropout=0.8)\n",
    "net = tflearn.fully_connected(net, 11, activation='softmax')\n",
    "net = tflearn.regression(net, optimizer='adam', learning_rate=0.0001,\n",
    "                         loss='categorical_crossentropy')\n",
    "\n",
    "\n",
    "# Training\n",
    "model = tflearn.DNN(net, tensorboard_verbose=0)\n",
    "model.fit(trainX, trainY_11, validation_set=(validationX, validationY_11), show_metric=True,\n",
    "          batch_size=32, n_epoch = 10)\n"
   ]
  },
  {
   "cell_type": "code",
   "execution_count": 26,
   "metadata": {
    "collapsed": false
   },
   "outputs": [
    {
     "name": "stdout",
     "output_type": "stream",
     "text": [
      "             precision    recall  f1-score   support\n",
      "\n",
      "          0       0.00      0.00      0.00       348\n",
      "          1       0.00      0.00      0.00       132\n",
      "          2       0.15      0.12      0.13       247\n",
      "          3       0.00      0.00      0.00         2\n",
      "          4       0.28      0.22      0.25       956\n",
      "          5       0.37      0.42      0.39       956\n",
      "          6       0.00      0.00      0.00        16\n",
      "          7       0.21      0.27      0.24       380\n",
      "          8       0.22      0.44      0.29       597\n",
      "          9       0.00      0.00      0.00        72\n",
      "         10       0.00      0.00      0.00        19\n",
      "\n",
      "avg / total       0.23      0.27      0.24      3725\n",
      "\n"
     ]
    },
    {
     "data": {
      "image/png": "[encoded data removed]",
      "text/plain": [
       "<matplotlib.figure.Figure at 0x7f168544b610>"
      ]
     },
     "metadata": {},
     "output_type": "display_data"
    }
   ],
   "source": [
    "# Get the predictions -- List of list of probabilities\n",
    "y_pred_11 = model.predict(testX)\n",
    "\n",
    "# Get the list of classes\n",
    "y_pred_11 = np.array(y_pred_11)\n",
    "y_pred_11 = np.argmax(y_pred_11, axis=1).tolist()\n",
    "\n",
    "# Classfication report\n",
    "print classification_report(y_11_test, y_pred_11)\n",
    "\n",
    "# Confusion matrix\n",
    "cm = confusion_matrix(y_11_test, y_pred_11, labels=[10,9,8,7,6,5,4,3,2,1,0])\n",
    "\n",
    "plot_confusion_matrix(cm, ['Unbearable', 'Painful', 'Okay', 'Mediocre', 'Masterpiece', \\\n",
    "                           'Great', 'Good', 'Disaster', 'Bad', 'Awful', 'Amazing'], rotation=True)"
   ]
  },
  {
   "cell_type": "code",
   "execution_count": null,
   "metadata": {
    "collapsed": true
   },
   "outputs": [],
   "source": []
  }
 ],
 "metadata": {
  "kernelspec": {
   "display_name": "Python 2",
   "language": "python",
   "name": "python2"
  },
  "language_info": {
   "codemirror_mode": {
    "name": "ipython",
    "version": 2
   },
   "file_extension": ".py",
   "mimetype": "text/x-python",
   "name": "python",
   "nbconvert_exporter": "python",
   "pygments_lexer": "ipython2",
   "version": "2.7.10"
  }
 },
 "nbformat": 4,
 "nbformat_minor": 1
}
